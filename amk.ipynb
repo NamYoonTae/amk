{
 "cells": [
  {
   "cell_type": "code",
   "execution_count": null,
   "metadata": {},
   "outputs": [],
   "source": [
    "from __future__ import print_function\n",
    "\n",
    "import time\n",
    "import ex2_getVoice2Text as gv2t\n",
    "import ex1_kwstest as kws\n",
    "\n",
    "def main():\n",
    "    KWSID = ['기가지니','지니야','친구야','자기야']\n",
    "    while 1:\n",
    "        recog=kws.test(KWSID[0])\n",
    "        if recog == 200:\n",
    "            print('KWS Dectected ...\\n Start STT...')\n",
    "            text = gv2t.getVoice2Text()\n",
    "            print('Recognized Text: '+ text)\n",
    "            time.sleep(2)            \n",
    "        else:\n",
    "            print('KWS Not Dectected ...')\n",
    "\n",
    "if __name__ == '__main__':\n",
    "    main()"
   ]
  }
 ],
 "metadata": {
  "kernelspec": {
   "display_name": "Python 3",
   "language": "python",
   "name": "python3"
  },
  "language_info": {
   "codemirror_mode": {
    "name": "ipython",
    "version": 3
   },
   "file_extension": ".py",
   "mimetype": "text/x-python",
   "name": "python",
   "nbconvert_exporter": "python",
   "pygments_lexer": "ipython3",
   "version": "3.8.3"
  }
 },
 "nbformat": 4,
 "nbformat_minor": 4
}
